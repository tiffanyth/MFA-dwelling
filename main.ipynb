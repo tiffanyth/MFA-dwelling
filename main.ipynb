# Tiffany Tran-Heinerich 
# last update: 03/03/24
# Emrys Duclos 
# last update: 03/03/24
